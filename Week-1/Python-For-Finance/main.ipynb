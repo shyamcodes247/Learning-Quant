{
 "cells": [
  {
   "cell_type": "markdown",
   "id": "6ed5b8df",
   "metadata": {},
   "source": [
    "# Working with NumPy"
   ]
  },
  {
   "cell_type": "markdown",
   "id": "e1f0c3f8",
   "metadata": {},
   "source": [
    "NumPy is a Python library which provides efficient scientific computing operations."
   ]
  },
  {
   "cell_type": "code",
   "execution_count": 1,
   "id": "7766667b",
   "metadata": {},
   "outputs": [
    {
     "name": "stdout",
     "output_type": "stream",
     "text": [
      "[1 2 3 4 5 6]\n"
     ]
    }
   ],
   "source": [
    "import numpy as np\n",
    "\n",
    "arr = np.array([1, 2, 3, 4, 5, 6])\n",
    "print(arr)"
   ]
  },
  {
   "cell_type": "markdown",
   "id": "c60b10a4",
   "metadata": {},
   "source": [
    "This code converts a Python list into 1-D NumPy array."
   ]
  }
 ],
 "metadata": {
  "kernelspec": {
   "display_name": "base",
   "language": "python",
   "name": "python3"
  },
  "language_info": {
   "codemirror_mode": {
    "name": "ipython",
    "version": 3
   },
   "file_extension": ".py",
   "mimetype": "text/x-python",
   "name": "python",
   "nbconvert_exporter": "python",
   "pygments_lexer": "ipython3",
   "version": "3.12.7"
  }
 },
 "nbformat": 4,
 "nbformat_minor": 5
}
